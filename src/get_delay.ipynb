{
 "cells": [
  {
   "cell_type": "code",
   "execution_count": 179,
   "metadata": {},
   "outputs": [],
   "source": [
    "from datetime import datetime\n",
    "\n",
    "import pandas as pd\n",
    "import requests\n",
    "import time\n",
    "\n",
    "from api_key import api_key"
   ]
  },
  {
   "cell_type": "markdown",
   "metadata": {},
   "source": [
    "### Stops"
   ]
  },
  {
   "cell_type": "code",
   "execution_count": 5,
   "metadata": {},
   "outputs": [
    {
     "name": "stdout",
     "output_type": "stream",
     "text": [
      "8241\n"
     ]
    }
   ],
   "source": [
    "url = \"https://api.um.warszawa.pl/api/action/dbstore_get\"\n",
    "params = {\n",
    "    \"id\": \"ab75c33d-3a26-4342-b36a-6e5fef0a3ac3\",  # resource id given by the API\n",
    "    \"apikey\": api_key,\n",
    "}\n",
    "stops = requests.get(url, params=params)\n",
    "print(len(stops.json()[\"result\"]))"
   ]
  },
  {
   "cell_type": "markdown",
   "metadata": {},
   "source": [
    "### Routes"
   ]
  },
  {
   "cell_type": "code",
   "execution_count": 6,
   "metadata": {},
   "outputs": [
    {
     "name": "stdout",
     "output_type": "stream",
     "text": [
      "287\n"
     ]
    }
   ],
   "source": [
    "url = \"https://api.um.warszawa.pl//api/action/public_transport_routes\"\n",
    "params = {\n",
    "    \"apikey\": api_key,\n",
    "}\n",
    "routes = requests.get(url, params=params)\n",
    "print(len(routes.json()[\"result\"]))"
   ]
  },
  {
   "cell_type": "markdown",
   "metadata": {},
   "source": [
    "### Location"
   ]
  },
  {
   "cell_type": "code",
   "execution_count": 25,
   "metadata": {},
   "outputs": [
    {
     "name": "stdout",
     "output_type": "stream",
     "text": [
      "1893\n"
     ]
    }
   ],
   "source": [
    "url = \"https://api.um.warszawa.pl/api/action/busestrams_get\"\n",
    "params = {\n",
    "    \"resource_id\": \"f2e5503e-927d-4ad3-9500-4ab9e55deb59\",  # resource id given by the API\n",
    "    \"apikey\": api_key,\n",
    "    \"type\": 1,  # 1 - bus, 2 - tram\n",
    "}\n",
    "locations = requests.get(url, params=params)\n",
    "print(len(locations.json()[\"result\"]))"
   ]
  },
  {
   "cell_type": "markdown",
   "metadata": {},
   "source": [
    "### Timetable"
   ]
  },
  {
   "cell_type": "code",
   "execution_count": 8,
   "metadata": {},
   "outputs": [
    {
     "name": "stdout",
     "output_type": "stream",
     "text": [
      "51\n"
     ]
    }
   ],
   "source": [
    "url = \"https://api.um.warszawa.pl//api/action/dbtimetable_get\"\n",
    "params = {\n",
    "    \"id\": \"e923fa0e-d96c-43f9-ae6e-60518c9f3238\",  # resource id given by the API\n",
    "    \"apikey\": api_key,\n",
    "    \"busstopId\": \"7074\",\n",
    "    \"line\": \"159\",\n",
    "    \"busstopNr\": \"02\",\n",
    "}\n",
    "timetable = requests.get(url, params=params)\n",
    "print(len(timetable.json()[\"result\"]))"
   ]
  },
  {
   "cell_type": "markdown",
   "metadata": {},
   "source": [
    "#### Check what lines of buses and trams are available in api"
   ]
  },
  {
   "cell_type": "code",
   "execution_count": 13,
   "metadata": {},
   "outputs": [
    {
     "name": "stdout",
     "output_type": "stream",
     "text": [
      "['100', '102', '103', '104', '105', '106', '107', '108', '110', '111', '112', '114', '115', '116', '117', '118', '119', '120', '121', '122', '123', '124', '125', '126', '127', '128', '129', '130', '131', '132', '133', '134', '135', '136', '138', '139', '140', '141', '142', '143', '145', '146', '147', '148', '149', '150', '151', '152', '153', '154', '156', '157', '158', '159', '160', '161', '162', '163', '164', '165', '166', '167', '168', '169', '170', '172', '173', '174', '175', '176', '177', '178', '179', '180', '181', '182', '183', '184', '185', '186', '187', '188', '189', '190', '191', '192', '193', '194', '197', '198', '199', '201', '202', '203', '204', '207', '208', '209', '210', '211', '212', '213', '217', '218', '219', '220', '221', '226', '228', '234', '239', '240', '245', '250', '251', '256', '262', '303', '308', '311', '317', '331', '338', '340', '401', '402', '409', '411', '414', '500', '502', '503', '504', '507', '509', '511', '512', '514', '516', '517', '518', '519', '520', '521', '523', '525', '527', '702', '703', '704', '705', '706', '707', '709', '710', '711', '712', '713', '714', '715', '716', '717', '719', '720', '721', '722', '723', '724', '727', '728', '729', '730', '731', '733', '735', '736', '737', '738', '739', '742', '743', '750', '817', '850', '900', 'E-2', 'EPA', 'EX 2', 'L-1', 'L-2', 'L-3', 'L-4', 'L-5', 'L-7', 'L-8', 'L-9', 'L10', 'L11', 'L12', 'L13', 'L15', 'L17', 'L18', 'L19', 'L20', 'L23', 'L24', 'L25', 'L26', 'L27', 'L29', 'L30', 'L31', 'L33', 'L34', 'L35', 'L36', 'L37', 'L38', 'L39', 'L41', 'L44', 'L45', 'L46', 'L49', 'L50', 'L51', 'L52', 'N01', 'N02', 'N03', 'N11', 'N14', 'N16', 'N21', 'N22', 'N24', 'N25', 'N31', 'N32', 'N34', 'N37', 'N38', 'N41', 'N42', 'N43', 'N44', 'N45', 'N46', 'N50', 'N56', 'N58', 'N61', 'N63', 'N64', 'N71', 'N72', 'N83', 'N85', 'N86', 'N95', 'Z-4', 'Z-8', 'Z12', 'ZM', 'ZS']\n"
     ]
    }
   ],
   "source": [
    "lines = [i[\"Lines\"] for i in locations.json()[\"result\"]]\n",
    "lines = list(set(lines))\n",
    "lines.sort()\n",
    "print(lines)"
   ]
  },
  {
   "cell_type": "code",
   "execution_count": 15,
   "metadata": {},
   "outputs": [
    {
     "name": "stdout",
     "output_type": "stream",
     "text": [
      "['1', '10', '11', '13', '14', '15', '16', '17', '18', '2', '20', '22', '23', '24', '25', '26', '27', '28', '3', '31', '33', '36', '4', '6', '7', '79', '9']\n"
     ]
    }
   ],
   "source": [
    "lines = [i[\"Lines\"] for i in locations.json()[\"result\"]]\n",
    "lines = list(set(lines))\n",
    "lines.sort()\n",
    "print(lines)"
   ]
  },
  {
   "cell_type": "code",
   "execution_count": 80,
   "metadata": {},
   "outputs": [],
   "source": [
    "stops_df = [\n",
    "    {item[\"key\"]: item[\"value\"] for item in entry[\"values\"]}\n",
    "    for entry in stops.json()[\"result\"]\n",
    "]\n",
    "\n",
    "# Convert to DataFrame\n",
    "stops_df = pd.DataFrame(stops_df)"
   ]
  },
  {
   "cell_type": "code",
   "execution_count": 178,
   "metadata": {},
   "outputs": [
    {
     "data": {
      "text/plain": [
       "{'TD', 'TO', 'TP', 'TX', 'TZ'}"
      ]
     },
     "execution_count": 178,
     "metadata": {},
     "output_type": "execute_result"
    }
   ],
   "source": [
    "routes_df = []\n",
    "for line_number, line_variants in routes.json()[\"result\"].items():\n",
    "    for line_variant, line_variant_details in line_variants.items():\n",
    "        for stop_numer, stop_details in line_variant_details.items():\n",
    "            stop_details[\"line_number\"] = line_number\n",
    "            stop_details[\"line_variant\"] = line_variant\n",
    "            stop_details[\"stop_numer\"] = stop_numer\n",
    "            routes_df.append(stop_details)\n",
    "\n",
    "routes_df = pd.DataFrame(routes_df)\n",
    "\n",
    "set([i.split(\"-\")[0] for i in list(routes_df[\"line_variant\"])])"
   ]
  },
  {
   "cell_type": "code",
   "execution_count": 162,
   "metadata": {},
   "outputs": [],
   "source": [
    "locations_df = pd.json_normalize(locations.json()[\"result\"])"
   ]
  },
  {
   "cell_type": "code",
   "execution_count": 112,
   "metadata": {},
   "outputs": [],
   "source": [
    "timetable_df = [\n",
    "    {item[\"key\"]: item[\"value\"] for item in entry}\n",
    "    for entry in timetable.json()[\"result\"]\n",
    "]\n",
    "\n",
    "# Convert to DataFrame\n",
    "timetable_df = pd.DataFrame(timetable_df)"
   ]
  },
  {
   "cell_type": "markdown",
   "metadata": {},
   "source": [
    "### NEEDS TO INSTALL fastparquet "
   ]
  },
  {
   "cell_type": "code",
   "execution_count": 163,
   "metadata": {},
   "outputs": [],
   "source": [
    "locations_df.to_parquet(\n",
    "    \"locations_test.parquet\",\n",
    "    compression=\"brotli\",\n",
    ")"
   ]
  },
  {
   "cell_type": "code",
   "execution_count": 181,
   "metadata": {},
   "outputs": [
    {
     "name": "stdout",
     "output_type": "stream",
     "text": [
      "2024-12-29 14:44:00.263255 Same response after 0:00:08.277933\n",
      "2024-12-29 14:44:08.547868 New response after 0:00:16.561155\n",
      "2024-12-29 14:44:17.044874 New response after 0:00:08.488571\n",
      "2024-12-29 14:44:25.309830 New response after 0:00:08.264481\n",
      "2024-12-29 14:44:35.700726 New response after 0:00:10.388834\n",
      "2024-12-29 14:44:43.875483 Same response after 0:00:08.170339\n",
      "2024-12-29 14:44:52.200596 New response after 0:00:16.495461\n",
      "2024-12-29 14:45:00.478909 New response after 0:00:08.277732\n",
      "2024-12-29 14:45:08.787390 New response after 0:00:08.307929\n",
      "2024-12-29 14:45:17.064930 Same response after 0:00:08.276136\n",
      "2024-12-29 14:45:25.316945 New response after 0:00:16.528163\n",
      "2024-12-29 14:45:36.373961 New response after 0:00:11.055254\n",
      "2024-12-29 14:45:44.657046 New response after 0:00:08.281249\n",
      "2024-12-29 14:45:53.151830 New response after 0:00:08.493516\n",
      "2024-12-29 14:46:01.420107 Same response after 0:00:08.266077\n",
      "2024-12-29 14:46:09.679052 New response after 0:00:16.525018\n",
      "2024-12-29 14:46:17.981364 New response after 0:00:08.296804\n",
      "2024-12-29 14:46:26.310925 New response after 0:00:08.328896\n",
      "2024-12-29 14:46:36.475868 Same response after 0:00:10.158398\n",
      "2024-12-29 14:46:44.732695 New response after 0:00:18.415137\n"
     ]
    }
   ],
   "source": [
    "last_response = requests.get(url, params=params).json()\n",
    "initial_time = datetime.now()\n",
    "for i in range(20):\n",
    "    time.sleep(8)\n",
    "    response = requests.get(url, params=params).json()\n",
    "    if response != last_response:\n",
    "        print(f\"{datetime.now()} New response after {datetime.now() - initial_time}\")\n",
    "        last_response = response\n",
    "        initial_time = datetime.now()\n",
    "    else:\n",
    "        print(f\"{datetime.now()} Same response after {datetime.now() - initial_time}\")"
   ]
  },
  {
   "cell_type": "code",
   "execution_count": 186,
   "metadata": {},
   "outputs": [
    {
     "name": "stdout",
     "output_type": "stream",
     "text": [
      "2024-12-29 14:48:35.698375 Same response after 0:00:03.643327\n",
      "2024-12-29 14:48:37.012618 Same response after 0:00:04.957493\n",
      "2024-12-29 14:48:38.732841 Same response after 0:00:06.677721\n",
      "2024-12-29 14:48:39.989910 New response after 0:00:07.934788\n",
      "2024-12-29 14:48:41.475202 Same response after 0:00:01.484785\n",
      "2024-12-29 14:48:42.784930 Same response after 0:00:02.794499\n",
      "2024-12-29 14:48:44.175853 Same response after 0:00:04.185455\n",
      "2024-12-29 14:48:45.542775 Same response after 0:00:05.552338\n",
      "2024-12-29 14:48:46.838299 Same response after 0:00:06.847865\n",
      "2024-12-29 14:48:48.094639 Same response after 0:00:08.104204\n",
      "2024-12-29 14:48:49.342866 Same response after 0:00:09.352431\n",
      "2024-12-29 14:48:50.683170 New response after 0:00:10.692735\n",
      "2024-12-29 14:48:51.950188 Same response after 0:00:01.266465\n",
      "2024-12-29 14:48:53.220051 Same response after 0:00:02.536321\n",
      "2024-12-29 14:48:54.485290 Same response after 0:00:03.801560\n",
      "2024-12-29 14:48:55.783030 Same response after 0:00:05.099309\n",
      "2024-12-29 14:48:57.065049 Same response after 0:00:06.381333\n",
      "2024-12-29 14:48:58.335869 Same response after 0:00:07.652152\n",
      "2024-12-29 14:48:59.609783 Same response after 0:00:08.926068\n",
      "2024-12-29 14:49:00.901392 Same response after 0:00:10.217664\n",
      "2024-12-29 14:49:02.161976 New response after 0:00:11.478247\n",
      "2024-12-29 14:49:03.400866 Same response after 0:00:01.238390\n",
      "2024-12-29 14:49:04.640983 Same response after 0:00:02.478506\n",
      "2024-12-29 14:49:05.933396 Same response after 0:00:03.770922\n",
      "2024-12-29 14:49:07.199281 Same response after 0:00:05.036819\n",
      "2024-12-29 14:49:08.452154 Same response after 0:00:06.289676\n",
      "2024-12-29 14:49:09.705761 Same response after 0:00:07.543292\n",
      "2024-12-29 14:49:10.961562 Same response after 0:00:08.799081\n",
      "2024-12-29 14:49:12.156809 New response after 0:00:09.994325\n",
      "2024-12-29 14:49:13.363828 Same response after 0:00:01.205968\n"
     ]
    }
   ],
   "source": [
    "last_response = requests.get(url, params=params).json()\n",
    "initial_time = datetime.now()\n",
    "for i in range(30):\n",
    "    time.sleep(1)\n",
    "    response = requests.get(url, params=params).json()\n",
    "    if response != last_response:\n",
    "        print(f\"{datetime.now()} New response after {datetime.now() - initial_time}\")\n",
    "        last_response = response\n",
    "        initial_time = datetime.now()\n",
    "    else:\n",
    "        print(f\"{datetime.now()} Same response after {datetime.now() - initial_time}\")"
   ]
  },
  {
   "cell_type": "code",
   "execution_count": null,
   "metadata": {},
   "outputs": [],
   "source": []
  }
 ],
 "metadata": {
  "kernelspec": {
   "display_name": "asseco",
   "language": "python",
   "name": "python3"
  },
  "language_info": {
   "codemirror_mode": {
    "name": "ipython",
    "version": 3
   },
   "file_extension": ".py",
   "mimetype": "text/x-python",
   "name": "python",
   "nbconvert_exporter": "python",
   "pygments_lexer": "ipython3",
   "version": "3.10.14"
  }
 },
 "nbformat": 4,
 "nbformat_minor": 2
}
