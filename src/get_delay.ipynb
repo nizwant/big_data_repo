{
 "cells": [
  {
   "cell_type": "code",
   "execution_count": 4,
   "metadata": {},
   "outputs": [],
   "source": [
    "from datetime import datetime\n",
    "\n",
    "import pandas as pd\n",
    "import requests\n",
    "\n",
    "from api_key import api_key"
   ]
  },
  {
   "cell_type": "markdown",
   "metadata": {},
   "source": [
    "### Stops"
   ]
  },
  {
   "cell_type": "code",
   "execution_count": 5,
   "metadata": {},
   "outputs": [
    {
     "name": "stdout",
     "output_type": "stream",
     "text": [
      "8241\n"
     ]
    }
   ],
   "source": [
    "url = \"https://api.um.warszawa.pl/api/action/dbstore_get\"\n",
    "params = {\n",
    "    \"id\": \"ab75c33d-3a26-4342-b36a-6e5fef0a3ac3\",  # resource id given by the API\n",
    "    \"apikey\": api_key,\n",
    "}\n",
    "stops = requests.get(url, params=params)\n",
    "print(len(stops.json()[\"result\"]))"
   ]
  },
  {
   "cell_type": "markdown",
   "metadata": {},
   "source": [
    "### Routes"
   ]
  },
  {
   "cell_type": "code",
   "execution_count": 6,
   "metadata": {},
   "outputs": [
    {
     "name": "stdout",
     "output_type": "stream",
     "text": [
      "287\n"
     ]
    }
   ],
   "source": [
    "url = \"https://api.um.warszawa.pl//api/action/public_transport_routes\"\n",
    "params = {\n",
    "    \"apikey\": api_key,\n",
    "}\n",
    "routes = requests.get(url, params=params)\n",
    "print(len(routes.json()[\"result\"]))"
   ]
  },
  {
   "cell_type": "markdown",
   "metadata": {},
   "source": [
    "### Location"
   ]
  },
  {
   "cell_type": "code",
   "execution_count": 25,
   "metadata": {},
   "outputs": [
    {
     "name": "stdout",
     "output_type": "stream",
     "text": [
      "1893\n"
     ]
    }
   ],
   "source": [
    "url = \"https://api.um.warszawa.pl/api/action/busestrams_get\"\n",
    "params = {\n",
    "    \"resource_id\": \"f2e5503e-927d-4ad3-9500-4ab9e55deb59\",  # resource id given by the API\n",
    "    \"apikey\": api_key,\n",
    "    \"type\": 1,  # 1 - bus, 2 - tram\n",
    "}\n",
    "locations = requests.get(url, params=params)\n",
    "print(len(locations.json()[\"result\"]))"
   ]
  },
  {
   "cell_type": "markdown",
   "metadata": {},
   "source": [
    "### Timetable"
   ]
  },
  {
   "cell_type": "code",
   "execution_count": 8,
   "metadata": {},
   "outputs": [
    {
     "name": "stdout",
     "output_type": "stream",
     "text": [
      "51\n"
     ]
    }
   ],
   "source": [
    "url = \"https://api.um.warszawa.pl//api/action/dbtimetable_get\"\n",
    "params = {\n",
    "    \"id\": \"e923fa0e-d96c-43f9-ae6e-60518c9f3238\",  # resource id given by the API\n",
    "    \"apikey\": api_key,\n",
    "    \"busstopId\": \"7074\",\n",
    "    \"line\": \"159\",\n",
    "    \"busstopNr\": \"02\",\n",
    "}\n",
    "timetable = requests.get(url, params=params)\n",
    "print(len(timetable.json()[\"result\"]))"
   ]
  },
  {
   "cell_type": "markdown",
   "metadata": {},
   "source": [
    "#### Buses"
   ]
  },
  {
   "cell_type": "code",
   "execution_count": 13,
   "metadata": {},
   "outputs": [
    {
     "name": "stdout",
     "output_type": "stream",
     "text": [
      "['100', '102', '103', '104', '105', '106', '107', '108', '110', '111', '112', '114', '115', '116', '117', '118', '119', '120', '121', '122', '123', '124', '125', '126', '127', '128', '129', '130', '131', '132', '133', '134', '135', '136', '138', '139', '140', '141', '142', '143', '145', '146', '147', '148', '149', '150', '151', '152', '153', '154', '156', '157', '158', '159', '160', '161', '162', '163', '164', '165', '166', '167', '168', '169', '170', '172', '173', '174', '175', '176', '177', '178', '179', '180', '181', '182', '183', '184', '185', '186', '187', '188', '189', '190', '191', '192', '193', '194', '197', '198', '199', '201', '202', '203', '204', '207', '208', '209', '210', '211', '212', '213', '217', '218', '219', '220', '221', '226', '228', '234', '239', '240', '245', '250', '251', '256', '262', '303', '308', '311', '317', '331', '338', '340', '401', '402', '409', '411', '414', '500', '502', '503', '504', '507', '509', '511', '512', '514', '516', '517', '518', '519', '520', '521', '523', '525', '527', '702', '703', '704', '705', '706', '707', '709', '710', '711', '712', '713', '714', '715', '716', '717', '719', '720', '721', '722', '723', '724', '727', '728', '729', '730', '731', '733', '735', '736', '737', '738', '739', '742', '743', '750', '817', '850', '900', 'E-2', 'EPA', 'EX 2', 'L-1', 'L-2', 'L-3', 'L-4', 'L-5', 'L-7', 'L-8', 'L-9', 'L10', 'L11', 'L12', 'L13', 'L15', 'L17', 'L18', 'L19', 'L20', 'L23', 'L24', 'L25', 'L26', 'L27', 'L29', 'L30', 'L31', 'L33', 'L34', 'L35', 'L36', 'L37', 'L38', 'L39', 'L41', 'L44', 'L45', 'L46', 'L49', 'L50', 'L51', 'L52', 'N01', 'N02', 'N03', 'N11', 'N14', 'N16', 'N21', 'N22', 'N24', 'N25', 'N31', 'N32', 'N34', 'N37', 'N38', 'N41', 'N42', 'N43', 'N44', 'N45', 'N46', 'N50', 'N56', 'N58', 'N61', 'N63', 'N64', 'N71', 'N72', 'N83', 'N85', 'N86', 'N95', 'Z-4', 'Z-8', 'Z12', 'ZM', 'ZS']\n"
     ]
    }
   ],
   "source": [
    "lines = [i[\"Lines\"] for i in locations.json()[\"result\"]]\n",
    "lines = list(set(lines))\n",
    "lines.sort()\n",
    "print(lines)"
   ]
  },
  {
   "cell_type": "code",
   "execution_count": 15,
   "metadata": {},
   "outputs": [
    {
     "name": "stdout",
     "output_type": "stream",
     "text": [
      "['1', '10', '11', '13', '14', '15', '16', '17', '18', '2', '20', '22', '23', '24', '25', '26', '27', '28', '3', '31', '33', '36', '4', '6', '7', '79', '9']\n"
     ]
    }
   ],
   "source": [
    "lines = [i[\"Lines\"] for i in locations.json()[\"result\"]]\n",
    "lines = list(set(lines))\n",
    "lines.sort()\n",
    "print(lines)"
   ]
  },
  {
   "cell_type": "code",
   "execution_count": 29,
   "metadata": {},
   "outputs": [],
   "source": [
    "df = pd.json_normalize(locations.json()[\"result\"])"
   ]
  },
  {
   "cell_type": "markdown",
   "metadata": {},
   "source": [
    "### NEEDS TO INSTALL fastparquet "
   ]
  },
  {
   "cell_type": "code",
   "execution_count": 47,
   "metadata": {},
   "outputs": [],
   "source": [
    "df.to_parquet(\n",
    "    f\"locations_{datetime.now().strftime('%Y%m%d%H%M%S')}.parquet\",\n",
    "    compression=\"zstd\",\n",
    ")"
   ]
  }
 ],
 "metadata": {
  "kernelspec": {
   "display_name": "asseco",
   "language": "python",
   "name": "python3"
  },
  "language_info": {
   "codemirror_mode": {
    "name": "ipython",
    "version": 3
   },
   "file_extension": ".py",
   "mimetype": "text/x-python",
   "name": "python",
   "nbconvert_exporter": "python",
   "pygments_lexer": "ipython3",
   "version": "3.10.14"
  }
 },
 "nbformat": 4,
 "nbformat_minor": 2
}
