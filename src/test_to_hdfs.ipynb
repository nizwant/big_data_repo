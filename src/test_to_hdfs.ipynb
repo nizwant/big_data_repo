{
 "cells": [
  {
   "cell_type": "code",
   "execution_count": 20,
   "metadata": {},
   "outputs": [
    {
     "name": "stdout",
     "output_type": "stream",
     "text": [
      "Collecting hdfs==0.0.1\n",
      "  Downloading hdfs-0.0.1.tar.gz (4.6 kB)\n",
      "  Installing build dependencies ... \u001b[?25ldone\n",
      "\u001b[?25h  Getting requirements to build wheel ... \u001b[?25ldone\n",
      "\u001b[?25h  Preparing metadata (pyproject.toml) ... \u001b[?25ldone\n",
      "\u001b[?25hRequirement already satisfied: docopt in /home/aaa/Desktop/big_data/big_data_repo/venv/lib/python3.12/site-packages (from hdfs==0.0.1) (0.6.2)\n",
      "Requirement already satisfied: requests>=2.0.1 in /home/aaa/Desktop/big_data/big_data_repo/venv/lib/python3.12/site-packages (from hdfs==0.0.1) (2.32.3)\n",
      "Collecting requests-kerberos (from hdfs==0.0.1)\n",
      "  Downloading requests_kerberos-0.15.0-py2.py3-none-any.whl.metadata (12 kB)\n",
      "Requirement already satisfied: charset-normalizer<4,>=2 in /home/aaa/Desktop/big_data/big_data_repo/venv/lib/python3.12/site-packages (from requests>=2.0.1->hdfs==0.0.1) (3.4.1)\n",
      "Requirement already satisfied: idna<4,>=2.5 in /home/aaa/Desktop/big_data/big_data_repo/venv/lib/python3.12/site-packages (from requests>=2.0.1->hdfs==0.0.1) (3.10)\n",
      "Requirement already satisfied: urllib3<3,>=1.21.1 in /home/aaa/Desktop/big_data/big_data_repo/venv/lib/python3.12/site-packages (from requests>=2.0.1->hdfs==0.0.1) (2.3.0)\n",
      "Requirement already satisfied: certifi>=2017.4.17 in /home/aaa/Desktop/big_data/big_data_repo/venv/lib/python3.12/site-packages (from requests>=2.0.1->hdfs==0.0.1) (2024.12.14)\n",
      "Collecting cryptography>=1.3 (from requests-kerberos->hdfs==0.0.1)\n",
      "  Downloading cryptography-44.0.0-cp39-abi3-manylinux_2_28_x86_64.whl.metadata (5.7 kB)\n",
      "Collecting pyspnego[kerberos] (from requests-kerberos->hdfs==0.0.1)\n",
      "  Downloading pyspnego-0.11.2-py3-none-any.whl.metadata (5.4 kB)\n",
      "Collecting cffi>=1.12 (from cryptography>=1.3->requests-kerberos->hdfs==0.0.1)\n",
      "  Downloading cffi-1.17.1-cp312-cp312-manylinux_2_17_x86_64.manylinux2014_x86_64.whl.metadata (1.5 kB)\n",
      "Collecting gssapi>=1.6.0 (from pyspnego[kerberos]->requests-kerberos->hdfs==0.0.1)\n",
      "  Downloading gssapi-1.9.0.tar.gz (94 kB)\n",
      "\u001b[2K     \u001b[90m━━━━━━━━━━━━━━━━━━━━━━━━━━━━━━━━━━━━━━━━\u001b[0m \u001b[32m94.3/94.3 kB\u001b[0m \u001b[31m1.7 MB/s\u001b[0m eta \u001b[36m0:00:00\u001b[0ma \u001b[36m0:00:01\u001b[0m\n",
      "\u001b[?25h  Installing build dependencies ... \u001b[?25ldone\n",
      "\u001b[?25h  Getting requirements to build wheel ... \u001b[?25lerror\n",
      "  \u001b[1;31merror\u001b[0m: \u001b[1msubprocess-exited-with-error\u001b[0m\n",
      "  \n",
      "  \u001b[31m×\u001b[0m \u001b[32mGetting requirements to build wheel\u001b[0m did not run successfully.\n",
      "  \u001b[31m│\u001b[0m exit code: \u001b[1;36m1\u001b[0m\n",
      "  \u001b[31m╰─>\u001b[0m \u001b[31m[25 lines of output]\u001b[0m\n",
      "  \u001b[31m   \u001b[0m /bin/sh: 1: krb5-config: not found\n",
      "  \u001b[31m   \u001b[0m Traceback (most recent call last):\n",
      "  \u001b[31m   \u001b[0m   File \"/home/aaa/Desktop/big_data/big_data_repo/venv/lib/python3.12/site-packages/pip/_vendor/pyproject_hooks/_in_process/_in_process.py\", line 353, in <module>\n",
      "  \u001b[31m   \u001b[0m     main()\n",
      "  \u001b[31m   \u001b[0m   File \"/home/aaa/Desktop/big_data/big_data_repo/venv/lib/python3.12/site-packages/pip/_vendor/pyproject_hooks/_in_process/_in_process.py\", line 335, in main\n",
      "  \u001b[31m   \u001b[0m     json_out['return_val'] = hook(**hook_input['kwargs'])\n",
      "  \u001b[31m   \u001b[0m                              ^^^^^^^^^^^^^^^^^^^^^^^^^^^^\n",
      "  \u001b[31m   \u001b[0m   File \"/home/aaa/Desktop/big_data/big_data_repo/venv/lib/python3.12/site-packages/pip/_vendor/pyproject_hooks/_in_process/_in_process.py\", line 118, in get_requires_for_build_wheel\n",
      "  \u001b[31m   \u001b[0m     return hook(config_settings)\n",
      "  \u001b[31m   \u001b[0m            ^^^^^^^^^^^^^^^^^^^^^\n",
      "  \u001b[31m   \u001b[0m   File \"/tmp/pip-build-env-y_cftcwj/overlay/lib/python3.12/site-packages/setuptools/build_meta.py\", line 334, in get_requires_for_build_wheel\n",
      "  \u001b[31m   \u001b[0m     return self._get_build_requires(config_settings, requirements=[])\n",
      "  \u001b[31m   \u001b[0m            ^^^^^^^^^^^^^^^^^^^^^^^^^^^^^^^^^^^^^^^^^^^^^^^^^^^^^^^^^^\n",
      "  \u001b[31m   \u001b[0m   File \"/tmp/pip-build-env-y_cftcwj/overlay/lib/python3.12/site-packages/setuptools/build_meta.py\", line 304, in _get_build_requires\n",
      "  \u001b[31m   \u001b[0m     self.run_setup()\n",
      "  \u001b[31m   \u001b[0m   File \"/tmp/pip-build-env-y_cftcwj/overlay/lib/python3.12/site-packages/setuptools/build_meta.py\", line 320, in run_setup\n",
      "  \u001b[31m   \u001b[0m     exec(code, locals())\n",
      "  \u001b[31m   \u001b[0m   File \"<string>\", line 109, in <module>\n",
      "  \u001b[31m   \u001b[0m   File \"<string>\", line 22, in get_output\n",
      "  \u001b[31m   \u001b[0m   File \"/usr/lib/python3.12/subprocess.py\", line 466, in check_output\n",
      "  \u001b[31m   \u001b[0m     return run(*popenargs, stdout=PIPE, timeout=timeout, check=True,\n",
      "  \u001b[31m   \u001b[0m            ^^^^^^^^^^^^^^^^^^^^^^^^^^^^^^^^^^^^^^^^^^^^^^^^^^^^^^^^^\n",
      "  \u001b[31m   \u001b[0m   File \"/usr/lib/python3.12/subprocess.py\", line 571, in run\n",
      "  \u001b[31m   \u001b[0m     raise CalledProcessError(retcode, process.args,\n",
      "  \u001b[31m   \u001b[0m subprocess.CalledProcessError: Command 'krb5-config --libs gssapi' returned non-zero exit status 127.\n",
      "  \u001b[31m   \u001b[0m \u001b[31m[end of output]\u001b[0m\n",
      "  \n",
      "  \u001b[1;35mnote\u001b[0m: This error originates from a subprocess, and is likely not a problem with pip.\n",
      "\u001b[?25h\u001b[1;31merror\u001b[0m: \u001b[1msubprocess-exited-with-error\u001b[0m\n",
      "\n",
      "\u001b[31m×\u001b[0m \u001b[32mGetting requirements to build wheel\u001b[0m did not run successfully.\n",
      "\u001b[31m│\u001b[0m exit code: \u001b[1;36m1\u001b[0m\n",
      "\u001b[31m╰─>\u001b[0m See above for output.\n",
      "\n",
      "\u001b[1;35mnote\u001b[0m: This error originates from a subprocess, and is likely not a problem with pip.\n"
     ]
    }
   ],
   "source": [
    "!pip install hdfs==0.0.1"
   ]
  },
  {
   "cell_type": "code",
   "execution_count": 22,
   "metadata": {},
   "outputs": [
    {
     "name": "stdout",
     "output_type": "stream",
     "text": [
      "Error uploading file: ('Connection aborted.', BadStatusLine('\\x00\\x00\\x00|{\\x08ÿÿÿÿ\\x0f\\x10\\x02\\x18\\t\")org.apache.hadoop.ipc.RPC$VersionMismatch*>Server IPC version 9 cannot communicate with client version 470\\x0e:\\x00@\\x01'))\n"
     ]
    }
   ],
   "source": [
    "from hdfs import InsecureClient\n",
    "\n",
    "# Set up the HDFS client with the NameNode address\n",
    "client = InsecureClient('http://localhost:8020', user='hadoop')  # replace 'hadoop' with your HDFS user\n",
    "\n",
    "# Specify the local file path and the target HDFS destination path\n",
    "local_file_path = 'tes.txt'  # Path to the local file you want to upload\n",
    "hdfs_dest_path = '/user/hadoop/file.txt'        # Path in HDFS where the file will be uploaded\n",
    "\n",
    "# Upload the file to HDFS\n",
    "try:\n",
    "    with open(local_file_path, 'rb') as f:\n",
    "        client.write(hdfs_dest_path, f) \n",
    "    print(f\"File {local_file_path} uploaded successfully to {hdfs_dest_path}\")\n",
    "except Exception as e:\n",
    "    print(f\"Error uploading file: {e}\")"
   ]
  },
  {
   "cell_type": "markdown",
   "metadata": {},
   "source": []
  }
 ],
 "metadata": {
  "kernelspec": {
   "display_name": "venv",
   "language": "python",
   "name": "python3"
  },
  "language_info": {
   "codemirror_mode": {
    "name": "ipython",
    "version": 3
   },
   "file_extension": ".py",
   "mimetype": "text/x-python",
   "name": "python",
   "nbconvert_exporter": "python",
   "pygments_lexer": "ipython3",
   "version": "3.12.3"
  }
 },
 "nbformat": 4,
 "nbformat_minor": 2
}
